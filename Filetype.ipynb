{
 "cells": [
  {
   "cell_type": "code",
   "execution_count": 2,
   "id": "855ba218-ce6e-458a-b071-9d86252e9a40",
   "metadata": {
    "tags": []
   },
   "outputs": [],
   "source": [
    "import os\n",
    "import pandas as pd\n",
    "import string\n",
    "import shutil"
   ]
  },
  {
   "cell_type": "code",
   "execution_count": 22,
   "id": "c66daf58-6f25-4ce4-a6e6-5feb63572730",
   "metadata": {
    "tags": []
   },
   "outputs": [
    {
     "name": "stdin",
     "output_type": "stream",
     "text": [
      "Enter the folder path:  \"C:\\Users\\carlo\\OneDrive - Universidad Autonoma de Nuevo León\\UANL\\CV\"\n"
     ]
    },
    {
     "data": {
      "text/plain": [
       "'C:\\\\Users\\\\carlo\\\\OneDrive - Universidad Autonoma de Nuevo León\\\\UANL\\\\CV'"
      ]
     },
     "execution_count": 22,
     "metadata": {},
     "output_type": "execute_result"
    }
   ],
   "source": [
    "Original_Path= input(\"Enter the folder path: \")\n",
    "#CF_path=Original_Path.replace(\"\\\\\",\"/\")  #Uncomment this line if your O.S. shows the folder path with the right slash.\n",
    "CF_path=Original_Path.replace(\"\\\"\",\"\")\n",
    "CF_path"
   ]
  },
  {
   "cell_type": "code",
   "execution_count": 29,
   "id": "cfdc5242-fb1b-46f3-a3e8-86cd3d6433b3",
   "metadata": {
    "tags": []
   },
   "outputs": [
    {
     "data": {
      "text/html": [
       "<div>\n",
       "<style scoped>\n",
       "    .dataframe tbody tr th:only-of-type {\n",
       "        vertical-align: middle;\n",
       "    }\n",
       "\n",
       "    .dataframe tbody tr th {\n",
       "        vertical-align: top;\n",
       "    }\n",
       "\n",
       "    .dataframe thead th {\n",
       "        text-align: right;\n",
       "    }\n",
       "</style>\n",
       "<table border=\"1\" class=\"dataframe\">\n",
       "  <thead>\n",
       "    <tr style=\"text-align: right;\">\n",
       "      <th></th>\n",
       "      <th>Filename</th>\n",
       "      <th>File Type</th>\n",
       "    </tr>\n",
       "  </thead>\n",
       "  <tbody>\n",
       "    <tr>\n",
       "      <th>0</th>\n",
       "      <td>1321_3_654497_1712887725_Databricks - Generic.pdf</td>\n",
       "      <td>PDF</td>\n",
       "    </tr>\n",
       "    <tr>\n",
       "      <th>1</th>\n",
       "      <td>Carlos Aleman-Resumen Apr 24.pptx</td>\n",
       "      <td>PPTX</td>\n",
       "    </tr>\n",
       "    <tr>\n",
       "      <th>2</th>\n",
       "      <td>Curriculum Vitae-English-March 2022.docx</td>\n",
       "      <td>DOCX</td>\n",
       "    </tr>\n",
       "    <tr>\n",
       "      <th>3</th>\n",
       "      <td>CV- Carlos David Aleman Quintanilla.pdf</td>\n",
       "      <td>PDF</td>\n",
       "    </tr>\n",
       "    <tr>\n",
       "      <th>4</th>\n",
       "      <td>LinkedIn-QR.png</td>\n",
       "      <td>PNG</td>\n",
       "    </tr>\n",
       "    <tr>\n",
       "      <th>5</th>\n",
       "      <td>QR-CERTIFICATIONS LINKEDIN.png</td>\n",
       "      <td>PNG</td>\n",
       "    </tr>\n",
       "    <tr>\n",
       "      <th>6</th>\n",
       "      <td>Resume April 2024.docx</td>\n",
       "      <td>DOCX</td>\n",
       "    </tr>\n",
       "    <tr>\n",
       "      <th>7</th>\n",
       "      <td>Resume April 2024.pdf</td>\n",
       "      <td>PDF</td>\n",
       "    </tr>\n",
       "    <tr>\n",
       "      <th>8</th>\n",
       "      <td>Resume January 2024.docx</td>\n",
       "      <td>DOCX</td>\n",
       "    </tr>\n",
       "    <tr>\n",
       "      <th>9</th>\n",
       "      <td>Resume January 2024.pdf</td>\n",
       "      <td>PDF</td>\n",
       "    </tr>\n",
       "    <tr>\n",
       "      <th>10</th>\n",
       "      <td>Resume July 2023-Carlos Aleman.pdf</td>\n",
       "      <td>PDF</td>\n",
       "    </tr>\n",
       "    <tr>\n",
       "      <th>11</th>\n",
       "      <td>Resume-Carlos David Aleman Quintanilla-July 20...</td>\n",
       "      <td>PDF</td>\n",
       "    </tr>\n",
       "    <tr>\n",
       "      <th>12</th>\n",
       "      <td>Resume-Sep 2022.pdf</td>\n",
       "      <td>PDF</td>\n",
       "    </tr>\n",
       "    <tr>\n",
       "      <th>13</th>\n",
       "      <td>UANL _ SIASE-Kardex 2023.pdf</td>\n",
       "      <td>PDF</td>\n",
       "    </tr>\n",
       "  </tbody>\n",
       "</table>\n",
       "</div>"
      ],
      "text/plain": [
       "                                             Filename File Type\n",
       "0   1321_3_654497_1712887725_Databricks - Generic.pdf       PDF\n",
       "1                   Carlos Aleman-Resumen Apr 24.pptx      PPTX\n",
       "2            Curriculum Vitae-English-March 2022.docx      DOCX\n",
       "3             CV- Carlos David Aleman Quintanilla.pdf       PDF\n",
       "4                                     LinkedIn-QR.png       PNG\n",
       "5                      QR-CERTIFICATIONS LINKEDIN.png       PNG\n",
       "6                              Resume April 2024.docx      DOCX\n",
       "7                               Resume April 2024.pdf       PDF\n",
       "8                            Resume January 2024.docx      DOCX\n",
       "9                             Resume January 2024.pdf       PDF\n",
       "10                 Resume July 2023-Carlos Aleman.pdf       PDF\n",
       "11  Resume-Carlos David Aleman Quintanilla-July 20...       PDF\n",
       "12                                Resume-Sep 2022.pdf       PDF\n",
       "13                       UANL _ SIASE-Kardex 2023.pdf       PDF"
      ]
     },
     "execution_count": 29,
     "metadata": {},
     "output_type": "execute_result"
    }
   ],
   "source": [
    "Content_Files=os.listdir(CF_path)\n",
    "actual_CF=pd.DataFrame(columns=[\"Filename\",\"File Type\"])\n",
    "actual_CF[\"Filename\"]=Content_Files\n",
    "actual_CF[\"File Type\"]= actual_CF[\"Filename\"].str.split(\".\").str[1]\n",
    "actual_CF[\"File Type\"]=actual_CF[\"File Type\"].str.upper()\n",
    "actual_CF"
   ]
  },
  {
   "cell_type": "code",
   "execution_count": 31,
   "id": "1ec4cbba-6226-4fdd-97ff-7acbb0cad150",
   "metadata": {
    "tags": []
   },
   "outputs": [
    {
     "data": {
      "text/plain": [
       "0     PDF\n",
       "1    PPTX\n",
       "2    DOCX\n",
       "3     PNG\n",
       "dtype: object"
      ]
     },
     "execution_count": 31,
     "metadata": {},
     "output_type": "execute_result"
    }
   ],
   "source": [
    "File_types= actual_CF[\"File Type\"].unique().tolist()\n",
    "File_types=pd.Series(File_types).str.upper()\n",
    "File_types"
   ]
  },
  {
   "cell_type": "code",
   "execution_count": 49,
   "id": "4d1d2703-e868-4f95-9c4b-9fe8c33429ea",
   "metadata": {
    "tags": []
   },
   "outputs": [
    {
     "name": "stdout",
     "output_type": "stream",
     "text": [
      "Directory 'PDF' created successfully\n",
      "Directory 'PPTX' created successfully\n",
      "Directory 'DOCX' created successfully\n",
      "Directory 'PNG' created successfully\n"
     ]
    }
   ],
   "source": [
    "#Create the new folders for every file type.\n",
    "new_folders=[]\n",
    "\n",
    "for i in File_types:\n",
    "    path=CF_path +\"\\\\\"+ str(i)\n",
    "    new_folders.append(path)\n",
    "    try:\n",
    "        os.makedirs(path, exist_ok=True)\n",
    "        print(\"Directory '%s' created successfully\" % i)\n",
    "    except OSError as error:\n",
    "        print(\"Directory '%s' can not be created because already on directory\")"
   ]
  },
  {
   "cell_type": "code",
   "execution_count": 52,
   "id": "09c202d5-6e74-4f3d-9e59-d8818bb22b1e",
   "metadata": {
    "tags": []
   },
   "outputs": [
    {
     "name": "stdout",
     "output_type": "stream",
     "text": [
      "Files distributed\n"
     ]
    }
   ],
   "source": [
    "#Move the original files to the new folder paths\n",
    "\n",
    "for i in range(actual_CF.shape[0]):\n",
    "    old_path= CF_path+\"\\\\\"+actual_CF.iloc[i][\"Filename\"]\n",
    "    filetype= actual_CF.iloc[i][\"File Type\"]\n",
    "    new_path= CF_path +\"\\\\\"+filetype+\"\\\\\"+actual_CF.iloc[i][\"Filename\"]\n",
    "    shutil.move(old_path, new_path)\n",
    "print(\"Files distributed\")"
   ]
  },
  {
   "cell_type": "code",
   "execution_count": null,
   "id": "9b4d806c-d718-4acb-be09-90f4a87b936e",
   "metadata": {},
   "outputs": [],
   "source": []
  }
 ],
 "metadata": {
  "kernelspec": {
   "display_name": "Python 3 (ipykernel)",
   "language": "python",
   "name": "python3"
  },
  "language_info": {
   "codemirror_mode": {
    "name": "ipython",
    "version": 3
   },
   "file_extension": ".py",
   "mimetype": "text/x-python",
   "name": "python",
   "nbconvert_exporter": "python",
   "pygments_lexer": "ipython3",
   "version": "3.11.5"
  }
 },
 "nbformat": 4,
 "nbformat_minor": 5
}
