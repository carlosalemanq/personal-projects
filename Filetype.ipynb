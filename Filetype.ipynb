{
 "cells": [
  {
   "cell_type": "code",
   "execution_count": null,
   "id": "855ba218-ce6e-458a-b071-9d86252e9a40",
   "metadata": {
    "tags": []
   },
   "outputs": [],
   "source": [
    "import os\n",
    "import pandas as pd\n",
    "import string\n",
    "import shutil"
   ]
  },
  {
   "cell_type": "code",
   "execution_count": null,
   "id": "f84d0239-ce86-48f7-b5e7-67b9b7f2f115",
   "metadata": {
    "tags": []
   },
   "outputs": [],
   "source": [
    "Original_Path= input(\"Enter the folder path: \")\n",
    "#CF_path=Original_Path.replace(\"\\\\\",\"/\")  #Uncomment this line if your O.S. shows the folder path with the right slash.\n",
    "CF_path=Original_Path.replace(\"\\\"\",\"\")\n",
    "CF_path"
   ]
  },
  {
   "cell_type": "code",
   "execution_count": null,
   "id": "cfdc5242-fb1b-46f3-a3e8-86cd3d6433b3",
   "metadata": {
    "tags": []
   },
   "outputs": [],
   "source": [
    "Content_Files=os.listdir(CF_path)\n",
    "actual_CF=pd.DataFrame(columns=[\"Filename\",\"File Type\"])\n",
    "actual_CF[\"Filename\"]=Content_Files\n",
    "actual_CF[\"File Type\"]= actual_CF[\"Filename\"].str.split(\".\").str[1]\n",
    "actual_CF[\"File Type\"]=actual_CF[\"File Type\"].str.upper()\n",
    "actual_CF"
   ]
  },
  {
   "cell_type": "code",
   "execution_count": null,
   "id": "1ec4cbba-6226-4fdd-97ff-7acbb0cad150",
   "metadata": {
    "tags": []
   },
   "outputs": [],
   "source": [
    "File_types= actual_CF[\"File Type\"].unique().tolist()\n",
    "File_types=pd.Series(File_types).str.upper()\n",
    "File_types"
   ]
  },
  {
   "cell_type": "code",
   "execution_count": null,
   "id": "4d1d2703-e868-4f95-9c4b-9fe8c33429ea",
   "metadata": {
    "tags": []
   },
   "outputs": [],
   "source": [
    "#Create the new folders for every file type.\n",
    "new_folders=[]\n",
    "\n",
    "for i in File_types:\n",
    "    path=CF_path +\"\\\\\"+ str(i)\n",
    "    new_folders.append(path)\n",
    "    try:\n",
    "        os.makedirs(path, exist_ok=True)\n",
    "        print(\"Directory '%s' created successfully\" % i)\n",
    "    except OSError as error:\n",
    "        print(\"Directory '%s' can not be created because already on directory\")"
   ]
  },
  {
   "cell_type": "code",
   "execution_count": null,
   "id": "09c202d5-6e74-4f3d-9e59-d8818bb22b1e",
   "metadata": {
    "tags": []
   },
   "outputs": [],
   "source": [
    "#Move the original files to the new folder paths\n",
    "\n",
    "for i in range(actual_CF.shape[0]):\n",
    "    old_path= CF_path+\"\\\\\"+actual_CF.iloc[i][\"Filename\"]\n",
    "    filetype= actual_CF.iloc[i][\"File Type\"]\n",
    "    new_path= CF_path +\"\\\\\"+filetype+\"\\\\\"+actual_CF.iloc[i][\"Filename\"]\n",
    "    shutil.move(old_path, new_path)\n",
    "print(\"Files distributed\")"
   ]
  },
  {
   "cell_type": "code",
   "execution_count": null,
   "id": "9b4d806c-d718-4acb-be09-90f4a87b936e",
   "metadata": {},
   "outputs": [],
   "source": []
  }
 ],
 "metadata": {
  "kernelspec": {
   "display_name": "Python 3 (ipykernel)",
   "language": "python",
   "name": "python3"
  },
  "language_info": {
   "codemirror_mode": {
    "name": "ipython",
    "version": 3
   },
   "file_extension": ".py",
   "mimetype": "text/x-python",
   "name": "python",
   "nbconvert_exporter": "python",
   "pygments_lexer": "ipython3",
   "version": "3.11.5"
  }
 },
 "nbformat": 4,
 "nbformat_minor": 5
}
